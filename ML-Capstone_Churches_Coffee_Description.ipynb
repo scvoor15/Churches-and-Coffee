{
 "cells": [
  {
   "cell_type": "markdown",
   "metadata": {},
   "source": [
    "###### Note:  To view project and maps perfectly, open the url: https://nbviewer.jupyter.org/ and copy the github address of this project and then go! "
   ]
  },
  {
   "cell_type": "markdown",
   "metadata": {
    "button": false,
    "new_sheet": false,
    "run_control": {
     "read_only": false
    }
   },
   "source": [
    "<a href=\"https://www.bigdatauniversity.com\"><img src=\"https://ibm.box.com/shared/static/cw2c7r3o20w9zn8gkecaeyjhgw3xdgbj.png\" width=\"400\" align=\"center\"></a>\n",
    "\n",
    "<h1 align=\"center\"><font size=\"5\">ML Capstone Project</font></h1>\n"
   ]
  },
  {
   "cell_type": "markdown",
   "metadata": {},
   "source": [
    "## Coursera Applied Data Science Capstone\n",
    "\n",
    "### Project Objective: Be creative and come up with an idea or problem to solve using location data.\n",
    "\n",
    "#### 1. The problem and a discussion of the background\n",
    "In the course of preparing and submitting responses to Weeks 1 - 3 of this Capstone Project, an intriguing anomoly in the Foursquare location data was discovered.  In short, over all of the City of Toronto, with its 103 neighborhoods, only one church, in one neighborhood was identified in all of the unique venue categories obtained from Foursquare.  Upon seeing this data, the thought came that while Canada, in general, has a declining Christian influence (see https://www.pewresearch.org/fact-tank/2019/07/01/5-facts-about-religion-in-canada/), it would be remarkable if a city the size of Toronto had only 1 church.  In other words, did the FourSquare data not track church venues or has the secularization of the city overwhelmed the Christian Church?  A quick google search did, indeed, confirm there are many churches in Toronto, but they are just not observed in FourSquare.  With this finding in hand, the question arises 'How to reverse or slow the decline of Christian influence in Toronto?' If the answer were simply, 'move to Toronto and find a church in a Neighborhood that faciliates sharing the Gospel' then the analysis below would be necessary, but not sufficient.\n",
    "\n",
    "More to the point, the problem to solve in this project is to use Toronto location data such that it is apparent to any Christian individual or organization which churches have relatively more venues, such as coffee shops / Cafe's nearby where relationships can develop in an attempt to reverse or slow the decline of the Christian influence in Toronto.  In other words, this project seeks the answer to two questions:\n",
    "\n",
    "A. Given existing churches, which church is best located to take advantage of venues (cafes and coffee houses) to meet and discuss spiritual topics in order to share the gospel of Jesus Christ.\n",
    "\n",
    "B. If a group of Christians were interested in starting a new church, what neighborhood would be an optimal choice in terms of nearby venues (cafes and coffee houses) that facilitate conversation and relationship building.\n",
    "\n",
    "As there are two questions to answer, there are two Parts (A & B) to this project with 2 jupyter notebooks submitted.\n",
    "\n",
    "#### 2. The data and how it will be used to solve the problem\n",
    "The FourSquare data needs to be enhanced with the addition of an outside source of Church Venue data. \n",
    "\n",
    "1. This data starts with downloading/saving the html page:'Toronto Canada Church Directory Churches in Toronto Elevate Christian Network.html'.\n",
    "2. From the browser locally, use BeautifulSoup to scrap the local html file for Church address data, \n",
    "3. a list of addresses will be used as input to obtain Venue Lat, Long with, \n",
    "4. manually added Venue Category of 'Church' which is the same category used in the Foursquare data.\n",
    "5. Once the Foursquare and Church Directory website data are combined, produce a map of Toronto which identifies Church vs. Cafe/Coffee House locations.\n",
    "\n",
    "#### Part A\n",
    "6. Define and apply a function that returns the closest centroid (church) for each point(venue or cafe/coffee house). We will use 'numpy broadcasting' to do this. Refer to the blog https://flothesof.github.io/k-means-numpy.html for an explanation of how numpy is used to identify which venue is assigned to which centroid.\n",
    "7. Create a table of churches, sorted, in descending order, with the church having the most cafes/coffee houses nearby at the top.\n",
    "\n",
    "#### Part B\n",
    "8. This part of the project that deals with answering the question of where to locate a new church, uses steps 1. - 4. above as well as applying K-Means cluster analysis to the data in order to find the neighborhood with the attribute of having many cafes / Coffee Houses.  This is the same analysis as done in the assignment for Week 3 of this Capstone Project.\n"
   ]
  }
 ],
 "metadata": {
  "kernelspec": {
   "display_name": "Python 3",
   "language": "python",
   "name": "python3"
  },
  "language_info": {
   "codemirror_mode": {
    "name": "ipython",
    "version": 3
   },
   "file_extension": ".py",
   "mimetype": "text/x-python",
   "name": "python",
   "nbconvert_exporter": "python",
   "pygments_lexer": "ipython3",
   "version": "3.7.3"
  }
 },
 "nbformat": 4,
 "nbformat_minor": 2
}
